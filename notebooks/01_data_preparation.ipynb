{
 "cells": [
  {
   "cell_type": "markdown",
   "id": "7727da0e",
   "metadata": {},
   "source": [
    "# About\n",
    "* **Author**: Adil Rashitov (adil.rashitov.98@gmail.com)\n",
    "* **Created at**: 08.12.2022\n"
   ]
  },
  {
   "cell_type": "code",
   "execution_count": null,
   "id": "0d4c7bdb",
   "metadata": {
    "code_folding": [
     0
    ]
   },
   "outputs": [],
   "source": [
    "# Imports / Configs / Global vars\n",
    "\n",
    "# Import of native python tools\n",
    "import os\n",
    "import json\n",
    "from functools import reduce\n",
    "\n",
    "# Import of base ML stack libs\n",
    "import numpy as np\n",
    "import sklearn as sc\n",
    "\n",
    "# Visualization libraries\n",
    "# import plotly.express as px\n",
    "\n",
    "# Logging configuraiton\n",
    "import logging\n",
    "logging.basicConfig(format='[ %(asctime)s ][ %(levelname)s ]: %(message)s', datefmt='%m/%d/%Y %I:%M:%S %p')\n",
    "logger = logging.getLogger()\n",
    "logger.setLevel(logging.INFO)\n",
    "\n",
    "\n",
    "# Ipython configs\n",
    "from IPython.core.display import display, HTML\n",
    "from IPython.core.interactiveshell import InteractiveShell\n",
    "display(HTML(\"<style>.container { width:100% !important; }</style>\"))\n",
    "InteractiveShell.ast_node_interactivity = 'all'\n",
    "\n",
    "# Pandas configs\n",
    "import pandas as pd\n",
    "import geopandas as gpd\n",
    "pd.options.display.max_rows = 350\n",
    "pd.options.display.max_columns = 250\n",
    "\n",
    "# Jupyter configs\n",
    "%load_ext autoreload\n",
    "%autoreload 2\n",
    "%config Completer.use_jedi = False\n",
    "\n",
    "# Configure project PATH\n",
    "from pathlib import Path\n",
    "import sys\n",
    "PROJECT_PATH = os.getcwd().rsplit('/', 1)[0]\n",
    "\n",
    "\n",
    "if PROJECT_PATH not in sys.path:\n",
    "    sys.path.append(PROJECT_PATH)"
   ]
  },
  {
   "cell_type": "markdown",
   "id": "b102604f",
   "metadata": {
    "code_folding": []
   },
   "source": [
    "# Data"
   ]
  },
  {
   "cell_type": "code",
   "execution_count": null,
   "id": "266705cd",
   "metadata": {
    "code_folding": [
     0
    ]
   },
   "outputs": [],
   "source": [
    "# Resolving paths to GPS records & Route plans\n",
    "from src import path\n",
    "from src import models\n",
    "\n",
    "\n",
    "def resolve_files_path(directory: str):\n",
    "    files = os.listdir(directory)\n",
    "    directories = list(map(\n",
    "        lambda x,y: f\"{x}/{y}\".replace(\"//\", \"/\"),\n",
    "        [directory] * len(files),\n",
    "        files\n",
    "    ))\n",
    "    return directories\n",
    "\n",
    "\n",
    "gps_records_reports_paths = resolve_files_path(path.DIR_01_RAW_GPS)\n",
    "route_plans_paths = resolve_files_path(path.DIR_01_RAW_PLANS)"
   ]
  },
  {
   "cell_type": "code",
   "execution_count": null,
   "id": "fb21fef0",
   "metadata": {
    "code_folding": []
   },
   "outputs": [],
   "source": [
    "# Reading & reformatting GPS records\n",
    "from src.gps_formatting_pipeline import factory_raw_gps_formatter_pipeline\n",
    "\n",
    "\n",
    "gps_formatting_pipeline = factory_raw_gps_formatter_pipeline()\n",
    "\n",
    "\n",
    "gps_records = []\n",
    "for gps_report_path in gps_records_reports_paths:\n",
    "    try:\n",
    "        gps_report = pd.read_excel(gps_report_path, skiprows=5)\n",
    "        gps_report = gps_formatting_pipeline.fit_transform(gps_report)\n",
    "        gps_records.append(gps_report)\n",
    "    except Exception as exc:\n",
    "        logging.error(f\"{gps_report_path}: {exc}\")\n",
    "\n",
    "gps_records = pd.concat(gps_records).reset_index(drop=True)\n",
    "gps_records = gps_records.drop_duplicates(subset=[\"datetime\", \"plate_no\"]).reset_index(drop=True)"
   ]
  },
  {
   "cell_type": "code",
   "execution_count": null,
   "id": "cf76a5a9",
   "metadata": {
    "code_folding": [
     0
    ]
   },
   "outputs": [],
   "source": [
    "# Route plan\n",
    "route_plans = []\n",
    "for route_plan_path in route_plans_paths:\n",
    "    try:\n",
    "        route_plan = pd.read_csv(route_plan_path, delimiter=\";\", dtype=\"str\")\n",
    "        route_plans.append(route_plan)\n",
    "    except Exception as exc:\n",
    "        logging.error(f\"{route_plan_path}: {exc}\")\n",
    "\n",
    "del route_plan\n",
    "route_plans = pd.concat(route_plans).reset_index()\n",
    "route_plans = models.raw_plan.validate(route_plans)\n",
    "route_plans[\"date\"] = pd.to_datetime(route_plans[\"date\"], format='%Y%m%d').astype(str)\n",
    "route_plans = route_plans.rename(columns={\"地址\": \"address\"})\n",
    "route_plans = route_plans.drop(columns=[\"index\"], errors=\"ignore\")\n",
    "route_plans = route_plans.drop_duplicates(subset=[\"CRN#\", \"truck code\", \"date\", \"address\"])"
   ]
  },
  {
   "cell_type": "code",
   "execution_count": null,
   "id": "36cbbf93",
   "metadata": {},
   "outputs": [],
   "source": [
    "# Geocodes\n",
    "geocodes = pd.read_csv(\"../data/01_raw/geocodes/locations.csv\")"
   ]
  },
  {
   "cell_type": "markdown",
   "id": "ef932022",
   "metadata": {},
   "source": [
    "# Main"
   ]
  },
  {
   "cell_type": "code",
   "execution_count": null,
   "id": "56064a12",
   "metadata": {},
   "outputs": [],
   "source": [
    "# Join geocodes & route plan\n",
    "route_plans = route_plans.merge(geocodes, how=\"left\")"
   ]
  },
  {
   "cell_type": "code",
   "execution_count": null,
   "id": "2f603f64",
   "metadata": {},
   "outputs": [],
   "source": [
    "route_plans.to_parquet(\"../data/02_intermediate/route_plan.parquet\", index=False)\n",
    "gps_records.to_parquet(\"../data/02_intermediate/gps_records.parquet\", index=False)"
   ]
  }
 ],
 "metadata": {
  "kernelspec": {
   "display_name": "Python 3 (ipykernel)",
   "language": "python",
   "name": "python3"
  },
  "language_info": {
   "codemirror_mode": {
    "name": "ipython",
    "version": 3
   },
   "file_extension": ".py",
   "mimetype": "text/x-python",
   "name": "python",
   "nbconvert_exporter": "python",
   "pygments_lexer": "ipython3",
   "version": "3.10.8"
  },
  "varInspector": {
   "cols": {
    "lenName": 16,
    "lenType": 16,
    "lenVar": 40
   },
   "kernels_config": {
    "python": {
     "delete_cmd_postfix": "",
     "delete_cmd_prefix": "del ",
     "library": "var_list.py",
     "varRefreshCmd": "print(var_dic_list())"
    },
    "r": {
     "delete_cmd_postfix": ") ",
     "delete_cmd_prefix": "rm(",
     "library": "var_list.r",
     "varRefreshCmd": "cat(var_dic_list()) "
    }
   },
   "types_to_exclude": [
    "module",
    "function",
    "builtin_function_or_method",
    "instance",
    "_Feature"
   ],
   "window_display": false
  }
 },
 "nbformat": 4,
 "nbformat_minor": 5
}
